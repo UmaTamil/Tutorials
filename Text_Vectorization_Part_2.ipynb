{
 "cells": [
  {
   "cell_type": "markdown",
   "id": "bfd0c879-129f-4cb9-a9a1-850c9dfc9d87",
   "metadata": {},
   "source": [
    "# Text Vectorization-Part 2"
   ]
  },
  {
   "cell_type": "markdown",
   "id": "5744315a-4766-414d-b0d9-047b25c7fcf3",
   "metadata": {},
   "source": [
    "### Word Embeddings and Document Embeddings: Overview"
   ]
  },
  {
   "cell_type": "markdown",
   "id": "e00fff0d-3570-4f05-aa4e-26fc21e5e817",
   "metadata": {},
   "source": [
    "### Problem with Traditional Text Vector Representations\n",
    "#### Bag of Words (BoW):\n",
    "\n",
    "    Words are represented as one-hot encoded vectors, where each word is assigned a unique index in a vocabulary.\n",
    "    Example: In a vocabulary of size 10,000, the word \"apple\" might be represented as [0, 0, ..., 1, ..., 0].\n",
    "    Drawbacks:\n",
    "        sparsity: One-hot vectors are mostly zeros.\n",
    "        No semantic similarity: \"apple\" and \"orange\" are just as dissimilar as \"apple\" and \"table\" in this representation.\n",
    "\n",
    "#### TF-IDF:\r",
    "        \n",
    "Captures word importance in documents but still doesn't encode semantic relationships between word\n",
    "\n",
    "### Word Embeddings    \r\n",
    "Definition\n",
    "                A representation of words in a continuous vector space where similar words have similar representations. Word embeddings are typically pre-trained on large corpora using models like Word2Vec, GloVe, or FastText. Word embeddings are a way to represent words as dense, continuous vectors in a high-dimensional space. They aim to capture the semantic and syntactic relationships between words. \n",
    "    Word embeddings address traditional methods limitations by:\n",
    "        Mapping words to a dense, low-dimensional space (e.g., 100 or 300 dimensions).\n",
    "        Encoding words such that similar words (in meaning or context) have similar vector representations.\n",
    ".s.s."
   ]
  },
  {
   "cell_type": "markdown",
   "id": "d96d105f-672f-433c-b80c-0060d94ae02f",
   "metadata": {},
   "source": [
    "### How Word Embeddings Work\n",
    "    a. Distributional Hypothesis\n",
    "        Core Principle: \"You shall know a word by the company it keeps\" (Firth, 1957).\n",
    "        Words appearing in similar contexts tend to have similar meanings. For example:\n",
    "        \"King\" and \"Queen\" appear in contexts like \"royalty,\" \"throne,\" or \"crown.\"\n",
    "        \"Apple\" and \"Orange\" appear in contexts like \"fruit,\" \"eat,\" or \"tree.\"\n",
    "    b.Analogies: You can perform mathematical operations on word embeddings to find analogies. For example, \"king - man + woman =   queen\"."
   ]
  },
  {
   "cell_type": "markdown",
   "id": "63df564a-4074-4635-abb3-7feb640fb261",
   "metadata": {},
   "source": [
    "### Predictive Models (Neural Network-Based)\n",
    "    These models learn embeddings by predicting relationships between words based on their context.\n",
    "#### Word2Vec:\n",
    "    Word2Vec, introduced by Mikolov et al., uses two main architectures: CBOW and Skip-Gram.\n",
    "#### Continuous Bag of Words (CBOW):\n",
    "    Goal: Predict a target word given its surrounding context words.\n",
    "    Example:\n",
    "            Input: Context words (e.g., \"The ___ sits on the mat\").\n",
    "            Output: Target word (e.g., \"cat\").\n",
    "    How it works:\n",
    "            The model averages the embeddings of the context words.\n",
    "            Passes the averaged vector through a softmax layer to predict the target word.\n",
    "    Advantages: Faster training because it predicts one word at a time.\n",
    "    Use Case: Works well for smaller datasets.\n",
    "#### Skip-Gram:\n",
    "    Goal: Predict context words given a target word.\n",
    "    Example:\n",
    "            Input: Target word (e.g., \"cat\").\n",
    "            Output: Context words (e.g., \"The ___ sits on the mat\").\n",
    "    How it works:\n",
    "            The model learns to predict multiple context words for each target word.\n",
    "    Advantages: Performs well with infrequent words.\n",
    "    Use Case: Better for larger datasets with rare words.\n",
    "#### FastText:\n",
    "    FastText, developed by Facebook, extends Word2Vec by considering subword information:\n",
    "    Key Idea: \n",
    "            Words are represented as n-grams of characters, enabling the model to understand morphological variations \n",
    "            (e.g.,  \"running,\" \"runner\").\n",
    "    Benefits:\n",
    "            Handles out-of-vocabulary (OOV) words by composing embeddings from subwords.\n",
    "            Captures richer semantic and syntactic relationships.\n",
    "#### Global Co-Occurrence-Based Models:\n",
    "    These models use statistical information from large corpora to learn embeddings.\n",
    "#### GloVe (Global Vectors for Word Representation):\n",
    "    GloVe, developed by Pennington et al., combines global co-occurrence statistics with vector space learning:\n",
    "    Goal: Learn embeddings by factorizing a word-word co-occurrence matrix.\n",
    "    Process:\n",
    "            Build a matrix where each cell contains the frequency with which two words co-occur in a corpus.\n",
    "            Factorize the matrix to reduce its dimensionality while preserving relationships.\n",
    "            Optimize the embeddings using a loss function that ensures word relationships like ratios\n",
    "            (e.g., king/man ≈ queen/woman).\n",
    "    Advantages:\n",
    "                Captures both global and local statistical relationships.\n",
    "                Performs well in capturing analogies and word relationships.\r",
    "#### Contextual Models:\n",
    "    Unlike traditional embeddings, contextual models generate word embeddings that depend on the surrounding context.\n",
    "####  ELMo (Embeddings from Language Models):\n",
    "    Key Idea: Words have different meanings depending on their context.\n",
    "    Example:\n",
    "            \"Bank\" in \"river bank\" vs. \"money bank.\"\n",
    "    How it works:\n",
    "            Uses a deep bidirectional LSTM to capture context-dependent word embeddings.\n",
    "    Benefits: Dynamic embeddings that adapt based on context.\n",
    "#### BERT (Bidirectional Encoder Representations from Transformers):\n",
    "    Key Idea: Learn contextual embeddings by pre-training on masked language modeling and next-sentence prediction tasks.\n",
    "    How it works:\n",
    "            Pre-trains using a Transformer architecture that processes words in both directions (left-to-right and right-to-left).\n",
    "            Embeddings depend on the sentence as a whole.\n",
    "    Advantages: Superior performance in downstream tasks like question answering and text classification.\n",
    "#### Hybrid Approaches:\n",
    "    Some methods combine predictive and co-occurrence-based techniques.\n",
    "#### WordRank:\n",
    "    Combines global matrix factorization with Skip-Gram-style predictive modeling.\r",
    "    Optimizes for both word co-occurrence statistics and contextual predictions.\n",
    "    \n",
    "#### Starspace \n",
    "    General-purpose model that learns embeddings for not just words but also sentences, documents, and even entire datasets.\n",
    "    Uses similarity-based ranking loss for training. \n"
   ]
  },
  {
   "cell_type": "markdown",
   "id": "095f78fd-e924-4cd6-96e7-66fb9909eaf5",
   "metadata": {},
   "source": [
    "### Loss Functions Used in Word Embedding Models Training:\n",
    "    Negative Sampling (Word2Vec):\n",
    "        Instead of computing probabilities for the entire vocabulary, randomly sample negative examples (words that don’t co-occur) to reduce computational cost.\n",
    "    Hierarchical Softmax (Word2Vec):\n",
    "        Uses a tree-based approach to approximate softmax probabilities, speeding up training.\n",
    "    Weighted Least Squares (GloVe):\n",
    "        Balances the importance of frequent and rare words when training on the co-occurrence matrix."
   ]
  },
  {
   "cell_type": "markdown",
   "id": "493e6119-e12d-4081-add4-3b740a659c76",
   "metadata": {},
   "source": [
    "### Intuitive Example\n",
    "    Imagine embedding words in a 3D space (simplified for explanation). Each word is a point in this space:\n",
    "        \"King\" and \"Queen\" are close because they share similar contexts (royalty, leadership).\n",
    "        \"Man\" and \"Woman\" are close because they share contexts related to gender roles.\n",
    "        The difference vector (King - Man) is similar to (Queen - Woman), capturing relationships like gender\n",
    "    Visualization of Embeddings\n",
    "        Positive Sentiments: (\"happy,\" \"joyful,\" \"cheerful\") cluster together.\n",
    "        Negative Sentiments: (\"sad,\" \"angry,\" \"miserable\") form another cluster.\n",
    "        Concepts: (\"king,\" \"queen\") are close, and the difference reflects relationships like gender.\n",
    "    This semantic structuring enables algorithms to understand language beyond raw text!\r\n"
   ]
  },
  {
   "attachments": {
    "150b8085-6b99-4658-bd88-88a13a5bf733.PNG": {
     "image/png": "[encoded data removed]"
    }
   },
   "cell_type": "markdown",
   "id": "dd9fc007-2a0c-4ff7-821e-50214708c823",
   "metadata": {},
   "source": [
    "### Comparison of  Word Embedding Techniques:\n",
    "!![comp.PNG](attachment:150b8085-6b99-4658-bd88-88a13a5bf733.PNG)"
   ]
  },
  {
   "cell_type": "markdown",
   "id": "ea7080ed-585e-48bc-808f-93f9a65b3bb5",
   "metadata": {},
   "source": [
    "#### Case Study: Analyzing Text Similarity\n",
    "    Scenario\r",
    "    \n",
    "We have a dataset of product reviews, and we want to find which reviews are most similar to each other based on semantic meaning. We'll use word embeddings for understanding word similarity"
   ]
  },
  {
   "cell_type": "code",
   "execution_count": null,
   "id": "0bf82916-6439-4eb0-8331-d190950edd1a",
   "metadata": {},
   "outputs": [],
   "source": [
    "#### Install Libriries\n",
    "#! pip install gensim"
   ]
  },
  {
   "cell_type": "code",
   "execution_count": 2,
   "id": "6e3e52ee-94fa-4df4-aa72-26e920ae5338",
   "metadata": {},
   "outputs": [
    {
     "name": "stderr",
     "output_type": "stream",
     "text": [
      "[nltk_data] Downloading package punkt to\n",
      "[nltk_data]     C:\\Users\\umaMaheswari\\AppData\\Roaming\\nltk_data...\n",
      "[nltk_data]   Package punkt is already up-to-date!\n"
     ]
    }
   ],
   "source": [
    "# Import required libraries\n",
    "import numpy as np\n",
    "from sklearn.cluster import KMeans\n",
    "from sklearn.manifold import TSNE\n",
    "import matplotlib.pyplot as plt\n",
    "from gensim.models import Word2Vec\n",
    "from nltk.tokenize import word_tokenize\n",
    "import nltk\n",
    "\n",
    "# Download necessary NLTK data\n",
    "nltk.download('punkt')\n",
    "\n",
    "# Example reviews\n",
    "reviews = [\n",
    "    \"The movie was fantastic! I loved it.\",\n",
    "    \"It was a terrible movie, very boring.\",\n",
    "    \"Amazing storyline and great acting!\",\n",
    "    \"I did not enjoy the film. It was slow and uninteresting.\",\n",
    "    \"The cinematography was stunning and the plot was captivating.\",\n",
    "    \"Poorly made movie with a predictable plot.\",\n",
    "    \"An outstanding performance by the lead actor.\",\n",
    "    \"The film was okay but lacked originality.\",\n",
    "    \"I thoroughly enjoyed the movie. It was brilliant!\",\n",
    "    \"A waste of time. Not recommended at all.\"\n",
    "]\n",
    "\n",
    "\n"
   ]
  },
  {
   "cell_type": "code",
   "execution_count": 3,
   "id": "eda789de-74cc-4dd7-9436-31df260db14d",
   "metadata": {},
   "outputs": [
    {
     "name": "stdout",
     "output_type": "stream",
     "text": [
      "Tokenized Reviews: [['the', 'movie', 'was', 'fantastic', '!', 'i', 'loved', 'it', '.'], ['it', 'was', 'a', 'terrible', 'movie', ',', 'very', 'boring', '.'], ['amazing', 'storyline', 'and', 'great', 'acting', '!'], ['i', 'did', 'not', 'enjoy', 'the', 'film', '.', 'it', 'was', 'slow', 'and', 'uninteresting', '.'], ['the', 'cinematography', 'was', 'stunning', 'and', 'the', 'plot', 'was', 'captivating', '.'], ['poorly', 'made', 'movie', 'with', 'a', 'predictable', 'plot', '.'], ['an', 'outstanding', 'performance', 'by', 'the', 'lead', 'actor', '.'], ['the', 'film', 'was', 'okay', 'but', 'lacked', 'originality', '.'], ['i', 'thoroughly', 'enjoyed', 'the', 'movie', '.', 'it', 'was', 'brilliant', '!'], ['a', 'waste', 'of', 'time', '.', 'not', 'recommended', 'at', 'all', '.']]\n"
     ]
    }
   ],
   "source": [
    "# Step 1: Tokenize reviews\n",
    "tokenized_reviews = [word_tokenize(review.lower()) for review in reviews]\n",
    "print(\"Tokenized Reviews:\", tokenized_reviews)"
   ]
  },
  {
   "cell_type": "code",
   "execution_count": 22,
   "id": "526c19bd-6d86-4000-96dd-96f0ef0f5690",
   "metadata": {},
   "outputs": [
    {
     "name": "stdout",
     "output_type": "stream",
     "text": [
      "Embedding for 'movie': [-3.4674876e-03 -5.8140774e-04  3.7917558e-03 -3.0205848e-03\n",
      " -2.1475374e-03  3.7244610e-03 -3.5887130e-03  1.5320031e-03\n",
      "  2.6525673e-04  2.6639889e-03  3.3279117e-03 -1.1421432e-03\n",
      " -1.5940494e-03  3.5612271e-03  8.3327427e-04  2.5028235e-03\n",
      " -3.7761535e-03  3.8355321e-03 -5.4235029e-04 -2.4198270e-03\n",
      "  1.1979984e-03 -1.8078029e-04  1.8853087e-03 -9.1456290e-04\n",
      " -1.6544845e-03  9.1074168e-04  3.3451584e-03 -1.9991074e-03\n",
      "  1.0636958e-03 -3.1964225e-03 -2.7110551e-03 -1.8589593e-04\n",
      " -3.5080058e-03  1.1159360e-03  6.4005621e-04 -9.2841784e-04\n",
      "  2.0037489e-03  3.8954278e-03  3.3814621e-03 -7.5368036e-04\n",
      "  8.2066818e-04 -1.6000011e-03 -3.2971168e-03  2.5106231e-03\n",
      " -7.7854493e-04 -2.6514370e-04 -7.0657610e-04 -1.8117336e-03\n",
      "  1.6271020e-03 -1.7088577e-03 -3.8345153e-03  3.5811127e-03\n",
      "  1.6622538e-03  3.6914379e-03  2.6610610e-03  1.1659187e-03\n",
      "  3.9212117e-03 -1.7686560e-03 -2.7212929e-03  1.6894394e-03\n",
      "  1.4912968e-03 -2.2656419e-03  3.8811683e-03 -1.4250356e-03\n",
      "  3.8213541e-03  3.3608841e-04 -2.5315350e-03 -7.9058780e-04\n",
      " -2.9530467e-03 -1.1902831e-03  4.1872347e-04  3.7936545e-03\n",
      "  3.7433119e-03 -2.6371412e-03  1.3901151e-03  9.1236056e-04\n",
      " -9.9607045e-04 -3.6943967e-03  4.1067009e-04 -3.2654675e-03\n",
      "  2.5297697e-03 -2.3181718e-03  2.2152187e-03  3.9352914e-03\n",
      " -6.5595857e-05  1.8125819e-03 -7.2171172e-04  2.9461039e-03\n",
      "  1.5751246e-03 -3.6015529e-03 -9.5728622e-04  1.4528948e-03\n",
      " -3.7589962e-05 -4.8123323e-04 -4.2187475e-04 -6.7035237e-04\n",
      "  2.4091378e-04  1.6674189e-03 -1.7021542e-03 -1.5345786e-03\n",
      " -2.0466172e-05  1.0979878e-04 -7.0104121e-05 -1.9131924e-03\n",
      "  1.7250943e-03 -8.6721848e-04  8.4298040e-04  2.6736615e-04\n",
      "  2.3877891e-03 -2.7374243e-03 -2.7259446e-03 -1.7901706e-03\n",
      "  3.7749950e-03 -6.3615304e-04 -3.7689833e-03 -2.1845481e-04\n",
      " -1.7774233e-03  2.4021445e-03 -3.8335153e-03  1.1398304e-03\n",
      " -3.7006126e-03  4.9779878e-04  2.3994476e-03  2.9599983e-03\n",
      " -3.0481156e-03 -2.4226340e-03 -2.7382579e-03 -3.1655091e-03\n",
      " -3.8013889e-03 -8.5007673e-04 -3.3318633e-04 -2.9027907e-03\n",
      "  2.7168018e-03  4.4965546e-04  2.3327549e-03  5.9287529e-04\n",
      "  3.2000695e-04 -2.9443577e-03 -8.7124715e-04  1.7266608e-03\n",
      " -2.0329717e-03  4.5334897e-04  1.1521364e-03 -6.1445468e-04\n",
      "  3.9745807e-03  3.3399395e-03  9.6975500e-04  2.8462326e-03\n",
      "  2.3567840e-03 -2.2296584e-03 -2.0630138e-03 -2.6678036e-03\n",
      " -3.1108069e-03  3.3250439e-03 -7.9306675e-04 -2.7397627e-03\n",
      " -1.6597585e-03  2.0612422e-03 -1.1465648e-03 -1.4990082e-03\n",
      "  6.4657076e-04 -1.1103289e-03 -6.3578866e-04  4.2672706e-04\n",
      " -1.1939412e-03  3.4082779e-03  1.5662562e-03 -3.9831223e-03\n",
      "  2.5060482e-03 -2.7010085e-03  3.0828619e-04  1.7626667e-03\n",
      " -2.0387457e-03 -8.4082858e-04  3.2368689e-03 -1.6966705e-03\n",
      " -3.0549527e-03  3.7025942e-03 -8.6140056e-04 -1.8881359e-03\n",
      "  3.4251609e-03  1.7155177e-03  1.7298395e-03  3.7103824e-03\n",
      " -3.3816898e-03  2.1002654e-03  8.1467687e-04  1.6742706e-03\n",
      "  6.8035687e-04  1.7870856e-03  1.7948145e-03  2.4392700e-03\n",
      " -1.2828584e-03 -1.8310199e-03 -1.6620746e-04  1.0126712e-03\n",
      " -1.3048201e-03  2.4217523e-03  1.6634000e-03  3.1052979e-03\n",
      "  1.0290883e-03  3.2466049e-03 -5.5361638e-04  3.2281899e-03\n",
      "  1.4872249e-03 -3.2200930e-03 -1.5733539e-03 -9.9032465e-04\n",
      "  1.9564729e-03 -3.4776138e-04 -1.1341703e-03  3.1307754e-03\n",
      "  3.7298624e-03 -6.4504019e-04 -2.0632623e-03 -1.8809066e-03\n",
      " -1.9382891e-03 -3.8390823e-03  5.4664141e-04 -1.6886819e-03\n",
      "  1.0083660e-03  2.2471538e-03 -1.6247367e-03 -3.8383442e-03\n",
      "  6.2197127e-04 -2.6792234e-03  9.9877117e-04 -1.5110677e-03\n",
      "  2.8317811e-03  2.5486585e-04  1.4238895e-03 -1.0984095e-03\n",
      " -6.8464258e-04  3.0597628e-03  5.6015851e-04 -2.3424530e-03\n",
      " -3.1322348e-03  4.9401826e-04  2.5793051e-03  2.2203415e-03\n",
      " -3.5900890e-03  3.4366569e-03  1.6206322e-03  2.9910309e-03\n",
      "  3.9000879e-03 -2.9157596e-03 -3.6147805e-03  2.3350986e-03\n",
      "  3.7528411e-03  1.4054450e-03]\n"
     ]
    }
   ],
   "source": [
    "# Step 2: Train Word2Vec model\n",
    "word2vec_model = Word2Vec(sentences=tokenized_reviews, vector_size=250, window=5, min_count=1, workers=4)\n",
    "# Check word embedding for a sample word\n",
    "print(\"Embedding for 'movie':\", word2vec_model.wv['movie'])"
   ]
  },
  {
   "cell_type": "code",
   "execution_count": 23,
   "id": "f45e82e4-0029-49e9-99ec-70e90ac42580",
   "metadata": {},
   "outputs": [
    {
     "name": "stdout",
     "output_type": "stream",
     "text": [
      "Cluster Labels: [0 0 0 0 0 1 0 0 0 1]\n",
      "Review: The movie was fantastic! I loved it. -> Cluster: 0\n",
      "Review: It was a terrible movie, very boring. -> Cluster: 0\n",
      "Review: Amazing storyline and great acting! -> Cluster: 0\n",
      "Review: I did not enjoy the film. It was slow and uninteresting. -> Cluster: 0\n",
      "Review: The cinematography was stunning and the plot was captivating. -> Cluster: 0\n",
      "Review: Poorly made movie with a predictable plot. -> Cluster: 1\n",
      "Review: An outstanding performance by the lead actor. -> Cluster: 0\n",
      "Review: The film was okay but lacked originality. -> Cluster: 0\n",
      "Review: I thoroughly enjoyed the movie. It was brilliant! -> Cluster: 0\n",
      "Review: A waste of time. Not recommended at all. -> Cluster: 1\n"
     ]
    }
   ],
   "source": [
    "# Step 3: Create review embeddings\n",
    "def get_review_word2vec_embedding(review):\n",
    "    \"\"\"Average Word2Vec embeddings for a review.\"\"\"\n",
    "    embedding = np.mean([word2vec_model.wv[word] for word in review if word in word2vec_model.wv], axis=0)\n",
    "    return embedding\n",
    "# Compute embeddings for all reviews\n",
    "review_embeddings = np.array([get_review_word2vec_embedding(review) for review in tokenized_reviews])\n",
    "# Step 4: Cluster reviews using K-Means\n",
    "num_clusters = 2\n",
    "kmeans = KMeans(n_clusters=num_clusters, random_state=42)\n",
    "kmeans.fit(review_embeddings)\n",
    "\n",
    "# Assign clusters to reviews\n",
    "cluster_labels = kmeans.labels_\n",
    "print(\"Cluster Labels:\", cluster_labels)\n",
    "\n",
    "# Print reviews with their clusters\n",
    "for i, review in enumerate(reviews):\n",
    "    print(f\"Review: {review} -> Cluster: {cluster_labels[i]}\")\n",
    "\n"
   ]
  },
  {
   "cell_type": "markdown",
   "id": "4cf35cef-c24b-4d81-b946-9cf0dc002dfb",
   "metadata": {},
   "source": [
    "##### The clustering results suggest that the current embeddings may not effectively capture the nuanced differences between positive and negative sentiments. To improve the quality of embeddings and the clustering results, you can take the following steps:"
   ]
  },
  {
   "cell_type": "markdown",
   "id": "a31f2a67-a1e8-4f09-ba9f-616270fd7bd3",
   "metadata": {},
   "source": [
    "### Use Pre-Trained Embeddings\n",
    "    Pre-trained FastText models provide word embeddings trained on massive datasets, offering better generalization.\n",
    "    Pre-trained embeddings capture richer semantic and syntactic information than those trained on a small dataset."
   ]
  },
  {
   "cell_type": "code",
   "execution_count": 36,
   "id": "dba959c4-234b-4bd2-aa0d-a9cfa5d81729",
   "metadata": {},
   "outputs": [],
   "source": [
    "# Load pre-trained Word2Vec model (Google News)\n",
    "model_path =r\"./GoogleNews-vectors-negative300.bin\"  # Download and point to the local model\n",
    "w2v_model = KeyedVectors.load_word2vec_format(model_path, binary=True)\n"
   ]
  },
  {
   "cell_type": "code",
   "execution_count": 37,
   "id": "ce2d81cc-b706-4877-997a-e1dee72dbc48",
   "metadata": {},
   "outputs": [
    {
     "name": "stdout",
     "output_type": "stream",
     "text": [
      "Embedding for 'movie': [ 0.17480469 -0.10986328 -0.20019531  0.26757812 -0.06396484  0.06689453\n",
      "  0.07958984  0.08398438  0.12695312  0.11621094  0.11523438 -0.13867188\n",
      " -0.08203125 -0.00143433 -0.19824219  0.13574219 -0.03955078  0.06933594\n",
      " -0.2265625  -0.20019531  0.03076172  0.16015625 -0.04174805  0.00427246\n",
      "  0.09619141 -0.03320312  0.02783203  0.02124023  0.13867188 -0.02075195\n",
      " -0.31835938 -0.08837891 -0.23828125  0.02490234  0.06787109 -0.18066406\n",
      "  0.27148438  0.16210938  0.04614258  0.20410156  0.22949219 -0.03710938\n",
      "  0.140625    0.12890625 -0.22558594  0.03857422 -0.01300049  0.00582886\n",
      "  0.23144531  0.1015625  -0.10351562 -0.10351562 -0.2578125   0.16503906\n",
      "  0.03686523 -0.32421875  0.02893066 -0.11914062 -0.19238281  0.00086594\n",
      "  0.06591797  0.265625   -0.15917969  0.26171875 -0.18359375  0.13085938\n",
      " -0.25       -0.05541992  0.27929688 -0.06103516 -0.05322266  0.07470703\n",
      " -0.24609375  0.203125   -0.23925781  0.00634766  0.10742188  0.0324707\n",
      "  0.19921875  0.0456543  -0.04052734 -0.11181641 -0.04956055 -0.203125\n",
      " -0.16503906  0.1796875  -0.15429688  0.15625     0.13671875 -0.09277344\n",
      "  0.00610352  0.09765625  0.08056641  0.05493164 -0.06982422  0.01013184\n",
      "  0.07861328 -0.08203125 -0.10986328 -0.01721191  0.15234375  0.21191406\n",
      "  0.1796875  -0.1875      0.23828125  0.06347656 -0.10253906 -0.2890625\n",
      "  0.10351562 -0.27539062 -0.125       0.06738281  0.11181641 -0.16015625\n",
      "  0.35742188  0.03344727 -0.00842285 -0.15722656 -0.01757812  0.03637695\n",
      " -0.06347656 -0.12402344  0.15917969 -0.05151367 -0.04833984  0.03710938\n",
      " -0.21972656  0.15039062 -0.30664062 -0.01123047 -0.09765625  0.01855469\n",
      "  0.10107422  0.06738281  0.15722656 -0.00521851  0.08349609  0.03271484\n",
      " -0.21875    -0.25585938  0.24316406 -0.09960938  0.02270508  0.18359375\n",
      "  0.05859375 -0.19238281  0.328125    0.32421875 -0.0456543   0.0546875\n",
      " -0.03515625  0.03564453 -0.08935547  0.0625     -0.04125977 -0.32226562\n",
      " -0.14160156 -0.08740234 -0.17773438 -0.0222168   0.05566406 -0.07470703\n",
      " -0.03588867  0.33789062 -0.25        0.01385498  0.21679688  0.04833984\n",
      " -0.08642578  0.03393555  0.02661133 -0.12451172  0.28710938 -0.27734375\n",
      " -0.19726562 -0.00387573  0.33007812 -0.03442383 -0.07080078  0.109375\n",
      "  0.0402832   0.02954102 -0.1171875  -0.24121094  0.24804688  0.05517578\n",
      " -0.04443359  0.07275391  0.02587891  0.06201172  0.10595703  0.18457031\n",
      " -0.20996094  0.24316406  0.09912109  0.14941406 -0.07373047  0.01672363\n",
      " -0.20703125  0.02075195  0.24511719  0.09814453 -0.09912109  0.07861328\n",
      "  0.05639648 -0.13085938 -0.04418945 -0.00382996 -0.43359375  0.02050781\n",
      " -0.03271484  0.51953125  0.10058594 -0.02087402 -0.19140625  0.29882812\n",
      " -0.10791016 -0.00909424 -0.15917969 -0.10058594  0.04223633  0.09912109\n",
      "  0.13964844 -0.02050781  0.18945312  0.15136719 -0.08007812  0.03173828\n",
      " -0.11474609 -0.0859375   0.3359375  -0.23242188 -0.21679688 -0.04638672\n",
      "  0.15136719  0.23925781  0.00927734  0.04296875  0.26953125 -0.11474609\n",
      "  0.20507812 -0.09960938  0.13085938 -0.13183594 -0.12695312 -0.07714844\n",
      "  0.21777344 -0.02111816  0.04321289 -0.01855469 -0.00185394  0.00546265\n",
      "  0.11669922  0.09863281  0.12890625  0.0045166   0.08886719 -0.21484375\n",
      " -0.3203125  -0.2890625  -0.33398438 -0.02502441 -0.07519531 -0.15722656\n",
      "  0.07861328  0.15136719 -0.05834961 -0.1640625  -0.07568359 -0.04296875\n",
      "  0.00294495  0.05200195  0.04223633 -0.02612305  0.25976562  0.11669922\n",
      "  0.05102539 -0.20117188 -0.06787109 -0.04296875 -0.24316406 -0.14746094\n",
      " -0.21289062  0.15429688  0.03955078  0.1640625  -0.15234375 -0.00759888\n",
      " -0.09082031  0.13867188 -0.34570312  0.20019531 -0.19140625 -0.02478027\n",
      "  0.1328125  -0.0246582  -0.11035156  0.07958984  0.02807617 -0.02026367]\n"
     ]
    }
   ],
   "source": [
    "# Check word embeddings for a sample word\n",
    "print(\"Embedding for 'movie':\", w2v_model['movie'])\n"
   ]
  },
  {
   "cell_type": "code",
   "execution_count": 38,
   "id": "dc83b495-2a1d-4704-a010-b95269c3d9d4",
   "metadata": {},
   "outputs": [],
   "source": [
    "# Create review embeddings by averaging word embeddings\n",
    "def get_review_pretrained_embedding(review):\n",
    "    \"\"\"Average Word2Vec embeddings for a review.\"\"\"\n",
    "    vectors = [w2v_model[word] for word in review if word in w2v_model]\n",
    "    if vectors:\n",
    "        return np.mean(vectors, axis=0)\n",
    "    else:\n",
    "        return np.zeros(w2v_model.vector_size)  # Return zero vector if no valid embeddings\n",
    "\n",
    "# Compute embeddings for all reviews\n",
    "review_embeddings = np.array([get_review_pretrained_embedding(review) for review in tokenized_reviews])\n"
   ]
  },
  {
   "cell_type": "code",
   "execution_count": 39,
   "id": "1dfe98f6-1618-4b16-aabf-d1be80408c85",
   "metadata": {},
   "outputs": [
    {
     "name": "stdout",
     "output_type": "stream",
     "text": [
      "Review: The movie was fantastic! I loved it. -> Cluster: 0\n",
      "Review: It was a terrible movie, very boring. -> Cluster: 0\n",
      "Review: Amazing storyline and great acting! -> Cluster: 0\n",
      "Review: I did not enjoy the film. It was slow and uninteresting. -> Cluster: 0\n",
      "Review: The cinematography was stunning and the plot was captivating. -> Cluster: 0\n",
      "Review: Poorly made movie with a predictable plot. -> Cluster: 0\n",
      "Review: An outstanding performance by the lead actor. -> Cluster: 1\n",
      "Review: The film was okay but lacked originality. -> Cluster: 0\n",
      "Review: I thoroughly enjoyed the movie. It was brilliant! -> Cluster: 0\n",
      "Review: A waste of time. Not recommended at all. -> Cluster: 0\n"
     ]
    }
   ],
   "source": [
    "# Cluster reviews using K-Means\n",
    "num_clusters = 2\n",
    "kmeans = KMeans(n_clusters=num_clusters, random_state=42)\n",
    "kmeans.fit(review_embeddings)\n",
    "\n",
    "# Print reviews with their clusters\n",
    "for i, review in enumerate(reviews):\n",
    "    print(f\"Review: {review} -> Cluster: {kmeans.labels_[i]}\")\n"
   ]
  },
  {
   "cell_type": "code",
   "execution_count": 40,
   "id": "73208f4f-288a-4b5f-8a6a-16dbac4fa40e",
   "metadata": {},
   "outputs": [
    {
     "name": "stdout",
     "output_type": "stream",
     "text": [
      "Embedding for 'movie': [-0.138     -0.12203    0.0054643 -0.010215   0.13134    0.28616\n",
      " -0.36436   -0.035735  -0.17218   -0.38864    0.58637    0.13189\n",
      " -0.1513     0.35515   -0.34298   -0.54394   -0.40302   -0.17129\n",
      "  0.19899    0.24317    0.21332    0.60335    0.22556    0.46382\n",
      "  0.064101   0.36409    0.25328   -0.79771    0.26771    0.42462\n",
      " -0.62075    0.31208   -0.25316    0.13562   -1.1323     0.0099104\n",
      " -0.62471   -0.048047   0.23139    0.16102    0.24774   -0.26149\n",
      " -0.17341    0.34005    0.21511   -0.26714    0.45698   -0.13671\n",
      "  0.11654   -0.12222    0.062068  -0.45585   -0.30115    0.11208\n",
      "  0.31146   -0.048065   0.10067    0.1441     0.27139   -0.17809\n",
      " -0.41069    0.093994   0.499      0.023845   0.42438   -0.027703\n",
      "  0.044485  -0.15928    0.45054    0.13142    0.19913    0.36483\n",
      "  0.26074    0.55475    0.47258   -0.43104    0.23181   -0.177\n",
      "  0.21771   -0.37325   -0.15304   -0.45237    0.68007   -0.15976\n",
      " -0.094521   0.6455     0.10443   -0.19616    0.027374  -0.24713\n",
      " -0.24108    0.24404   -0.0066751 -0.055555  -0.13255    0.28159\n",
      "  0.10104    0.26669   -0.20363   -1.2499     0.17955    0.16492\n",
      "  0.29046    0.078206   0.36391    0.1972    -0.38922   -0.08842\n",
      "  0.36837   -0.46351   -0.05688    0.23692    0.25946   -0.0092949\n",
      "  0.55123    0.18405   -0.070915  -0.12583   -0.33538   -0.6216\n",
      "  0.10658   -0.04339    0.054995   0.46283    0.088233   0.051282\n",
      "  0.30242    0.045697  -0.30009    0.086718  -0.075517   0.10886\n",
      " -0.018905   0.11489    0.30604   -0.014883  -0.20549   -0.11995\n",
      " -0.57362    0.71357   -0.0056715 -0.11205   -0.32318   -0.058222\n",
      " -0.36446   -0.68901    0.07647   -0.027654  -0.080254  -0.22787\n",
      "  0.35799   -0.21695   -0.20211   -0.23662    0.58239    0.12348\n",
      "  0.053221   0.21873   -0.11821    0.11212    0.79703   -0.30937\n",
      "  0.2063    -0.17314    0.01498    0.76045    0.075878   0.047252\n",
      " -0.35795    0.30923   -0.082989  -0.30638   -1.6971     0.055546\n",
      "  0.089201   0.38312   -0.33247   -0.13426   -0.049802  -0.41536\n",
      " -0.13256   -0.066477  -0.18845    0.17874    0.19334   -0.22544\n",
      "  0.023197  -0.3343     0.21699   -0.16357   -0.3338    -0.15258\n",
      " -0.27453   -0.2123    -0.38512   -0.39829   -0.7472     0.19218\n",
      " -0.15262   -0.26095    1.9506    -0.30508    0.11658    0.01811\n",
      "  0.3887     0.02532   -0.073168   0.08531   -0.26947   -0.4158\n",
      " -0.5256    -0.3618     0.1364     0.14176    0.080273   0.31376\n",
      "  0.12755    0.1358     0.25489    0.33135   -0.75425   -0.10576\n",
      "  0.036561  -0.15502   -0.41141   -0.1202     0.27146   -0.44042\n",
      " -0.2921    -0.11905    0.62502   -0.27724   -0.59458   -0.31237\n",
      "  0.30283    0.28397    0.75238   -0.12298   -0.32536    0.12182\n",
      "  0.40979    0.15839   -0.26725   -0.21228   -0.51142   -0.34827\n",
      " -0.42788   -0.10433   -0.58671    0.26117   -0.021263  -0.16688\n",
      " -0.42097    1.0059     0.23808   -0.80147    0.3903    -0.34794\n",
      "  0.54537   -0.14279    0.17518   -0.083995   0.13864   -0.36321\n",
      "  0.44686   -0.18776    0.17833   -0.19966    0.53591    0.57662\n",
      "  0.54154   -0.10555   -0.27472    0.11733    0.22361    0.32645\n",
      " -1.6279    -0.14297   -0.010648  -0.62519   -0.037267  -0.35863\n",
      "  0.023786  -0.059398  -0.10813    0.59328   -0.11333   -0.1525\n",
      " -0.14136    0.67566    0.11331    0.15394   -0.3226     0.017754\n",
      " -0.97518    0.021112  -0.15476    0.19934    0.057473  -0.023767 ]\n"
     ]
    }
   ],
   "source": [
    "# Using the same tokenized_reviews and KMeans as above with GloVe embeddings\n",
    "import numpy as np\n",
    "\n",
    "# Load GloVe model\n",
    "def load_glove_model(glove_file):\n",
    "    model = {}\n",
    "    with open(glove_file, 'r', encoding='utf-8') as f:\n",
    "        for line in f:\n",
    "            values = line.split()\n",
    "            word = values[0]\n",
    "            vector = np.asarray(values[1:], dtype='float32')\n",
    "            model[word] = vector\n",
    "    return model\n",
    "\n",
    "# Example GloVe model path\n",
    "glove_model = load_glove_model(r\"C:\\NLP_Knowledge_Sharing\\glove.6B.300d.txt\")\n",
    "\n",
    "# Get word embedding for a sample word\n",
    "word = 'movie'\n",
    "if word in glove_model:\n",
    "    print(f\"Embedding for '{word}': {glove_model[word]}\")\n",
    "else:\n",
    "    print(f\"Word '{word}' not found in GloVe model.\")\n",
    "\n",
    "def get_review_embedding_glove(review, glove_model):\n",
    "    \"\"\"Average GloVe embeddings for a review.\"\"\"\n",
    "    vectors = [glove_model[word] for word in review if word in glove_model]\n",
    "    if vectors:\n",
    "        return np.mean(vectors, axis=0)\n",
    "    else:\n",
    "        return np.zeros(50)  # Return zero vector if no valid embeddings\n",
    "\n",
    "# Compute GloVe embeddings for all reviews\n",
    "review_embeddings_glove = np.array([get_review_embedding_glove(review, glove_model) for review in tokenized_reviews])\n",
    "\n",
    "# Cluster and visualize as before\n",
    "# ... KMeans, t-SNE, and visualization code as shown previously\n"
   ]
  },
  {
   "cell_type": "code",
   "execution_count": 42,
   "id": "91336f6b-e44c-4496-9b30-f9c2939f5491",
   "metadata": {},
   "outputs": [
    {
     "name": "stdout",
     "output_type": "stream",
     "text": [
      "Review: The movie was fantastic! I loved it. -> Cluster: 0\n",
      "Review: It was a terrible movie, very boring. -> Cluster: 0\n",
      "Review: Amazing storyline and great acting! -> Cluster: 0\n",
      "Review: I did not enjoy the film. It was slow and uninteresting. -> Cluster: 0\n",
      "Review: The cinematography was stunning and the plot was captivating. -> Cluster: 0\n",
      "Review: Poorly made movie with a predictable plot. -> Cluster: 0\n",
      "Review: An outstanding performance by the lead actor. -> Cluster: 1\n",
      "Review: The film was okay but lacked originality. -> Cluster: 0\n",
      "Review: I thoroughly enjoyed the movie. It was brilliant! -> Cluster: 0\n",
      "Review: A waste of time. Not recommended at all. -> Cluster: 0\n"
     ]
    }
   ],
   "source": [
    "# Cluster reviews using K-Means\n",
    "num_clusters = 2\n",
    "kmeans = KMeans(n_clusters=num_clusters, random_state=42)\n",
    "kmeans.fit(review_embeddings_glove)\n",
    "\n",
    "# Print reviews with their clusters\n",
    "for i, review in enumerate(reviews):\n",
    "    print(f\"Review: {review} -> Cluster: {kmeans.labels_[i]}\")\n"
   ]
  },
  {
   "cell_type": "markdown",
   "id": "2cd3e342-7eb0-453e-a539-492208e35b42",
   "metadata": {},
   "source": [
    "### Alternative Approach Using Sentence-BERT\n",
    "    Here's how you could use Sentence-BERT for better clustering:\n",
    "\n"
   ]
  },
  {
   "cell_type": "code",
   "execution_count": 43,
   "id": "f3c9b5c5-8bc6-4e1b-9606-392045b475bf",
   "metadata": {},
   "outputs": [
    {
     "name": "stderr",
     "output_type": "stream",
     "text": [
      "C:\\Users\\umaMaheswari\\anaconda3\\Lib\\site-packages\\sentence_transformers\\cross_encoder\\CrossEncoder.py:11: TqdmExperimentalWarning: Using `tqdm.autonotebook.tqdm` in notebook mode. Use `tqdm.tqdm` instead to force console mode (e.g. in jupyter console)\n",
      "  from tqdm.autonotebook import tqdm, trange\n"
     ]
    },
    {
     "data": {
      "application/vnd.jupyter.widget-view+json": {
       "model_id": "a5a54ac462e44cdd8a10c93fe79dbcdb",
       "version_major": 2,
       "version_minor": 0
      },
      "text/plain": [
       "modules.json:   0%|          | 0.00/229 [00:00<?, ?B/s]"
      ]
     },
     "metadata": {},
     "output_type": "display_data"
    },
    {
     "data": {
      "application/vnd.jupyter.widget-view+json": {
       "model_id": "73a2167649c54d91971a2736cc34a011",
       "version_major": 2,
       "version_minor": 0
      },
      "text/plain": [
       "config_sentence_transformers.json:   0%|          | 0.00/122 [00:00<?, ?B/s]"
      ]
     },
     "metadata": {},
     "output_type": "display_data"
    },
    {
     "data": {
      "application/vnd.jupyter.widget-view+json": {
       "model_id": "999f804bdc8346808ab0ccdf561547bf",
       "version_major": 2,
       "version_minor": 0
      },
      "text/plain": [
       "README.md:   0%|          | 0.00/3.73k [00:00<?, ?B/s]"
      ]
     },
     "metadata": {},
     "output_type": "display_data"
    },
    {
     "data": {
      "application/vnd.jupyter.widget-view+json": {
       "model_id": "49c20c01906f4326b1513cd572993d69",
       "version_major": 2,
       "version_minor": 0
      },
      "text/plain": [
       "sentence_bert_config.json:   0%|          | 0.00/53.0 [00:00<?, ?B/s]"
      ]
     },
     "metadata": {},
     "output_type": "display_data"
    },
    {
     "data": {
      "application/vnd.jupyter.widget-view+json": {
       "model_id": "173ac304fb70498eaa12b32e73b2b188",
       "version_major": 2,
       "version_minor": 0
      },
      "text/plain": [
       "config.json:   0%|          | 0.00/629 [00:00<?, ?B/s]"
      ]
     },
     "metadata": {},
     "output_type": "display_data"
    },
    {
     "data": {
      "application/vnd.jupyter.widget-view+json": {
       "model_id": "b5d21caf83484e07aa7bea79d263e486",
       "version_major": 2,
       "version_minor": 0
      },
      "text/plain": [
       "model.safetensors:   0%|          | 0.00/90.9M [00:00<?, ?B/s]"
      ]
     },
     "metadata": {},
     "output_type": "display_data"
    },
    {
     "data": {
      "application/vnd.jupyter.widget-view+json": {
       "model_id": "9c9761e5c1a142599bc804300ecf64f1",
       "version_major": 2,
       "version_minor": 0
      },
      "text/plain": [
       "tokenizer_config.json:   0%|          | 0.00/314 [00:00<?, ?B/s]"
      ]
     },
     "metadata": {},
     "output_type": "display_data"
    },
    {
     "data": {
      "application/vnd.jupyter.widget-view+json": {
       "model_id": "ddf62982b8894f6ab20b2b1e3d601e6c",
       "version_major": 2,
       "version_minor": 0
      },
      "text/plain": [
       "vocab.txt:   0%|          | 0.00/232k [00:00<?, ?B/s]"
      ]
     },
     "metadata": {},
     "output_type": "display_data"
    },
    {
     "data": {
      "application/vnd.jupyter.widget-view+json": {
       "model_id": "787018541352444b8bbbbfb2b760dfc6",
       "version_major": 2,
       "version_minor": 0
      },
      "text/plain": [
       "tokenizer.json:   0%|          | 0.00/466k [00:00<?, ?B/s]"
      ]
     },
     "metadata": {},
     "output_type": "display_data"
    },
    {
     "data": {
      "application/vnd.jupyter.widget-view+json": {
       "model_id": "c86cecd7fc6347f894dfe14f3181db6f",
       "version_major": 2,
       "version_minor": 0
      },
      "text/plain": [
       "special_tokens_map.json:   0%|          | 0.00/112 [00:00<?, ?B/s]"
      ]
     },
     "metadata": {},
     "output_type": "display_data"
    },
    {
     "data": {
      "application/vnd.jupyter.widget-view+json": {
       "model_id": "99f20a46b4204fb2abff2daac8d79580",
       "version_major": 2,
       "version_minor": 0
      },
      "text/plain": [
       "1_Pooling/config.json:   0%|          | 0.00/190 [00:00<?, ?B/s]"
      ]
     },
     "metadata": {},
     "output_type": "display_data"
    },
    {
     "name": "stdout",
     "output_type": "stream",
     "text": [
      "Review: The movie was fantastic! I loved it. -> Cluster: 1\n",
      "Review: It was a terrible movie, very boring. -> Cluster: 0\n",
      "Review: Amazing storyline and great acting! -> Cluster: 1\n",
      "Review: I did not enjoy the film. It was slow and uninteresting. -> Cluster: 0\n",
      "Review: The cinematography was stunning and the plot was captivating. -> Cluster: 1\n",
      "Review: Poorly made movie with a predictable plot. -> Cluster: 0\n",
      "Review: An outstanding performance by the lead actor. -> Cluster: 1\n",
      "Review: The film was okay but lacked originality. -> Cluster: 0\n",
      "Review: I thoroughly enjoyed the movie. It was brilliant! -> Cluster: 1\n",
      "Review: A waste of time. Not recommended at all. -> Cluster: 0\n"
     ]
    }
   ],
   "source": [
    "from sentence_transformers import SentenceTransformer\n",
    "from sklearn.cluster import KMeans\n",
    "import matplotlib.pyplot as plt\n",
    "import numpy as np\n",
    "\n",
    "# Example reviews\n",
    "reviews = [\n",
    "    \"The movie was fantastic! I loved it.\",\n",
    "    \"It was a terrible movie, very boring.\",\n",
    "    \"Amazing storyline and great acting!\",\n",
    "    \"I did not enjoy the film. It was slow and uninteresting.\",\n",
    "    \"The cinematography was stunning and the plot was captivating.\",\n",
    "    \"Poorly made movie with a predictable plot.\",\n",
    "    \"An outstanding performance by the lead actor.\",\n",
    "    \"The film was okay but lacked originality.\",\n",
    "    \"I thoroughly enjoyed the movie. It was brilliant!\",\n",
    "    \"A waste of time. Not recommended at all.\"\n",
    "]\n",
    "\n",
    "# Step 1: Load pre-trained Sentence-BERT model\n",
    "model = SentenceTransformer('paraphrase-MiniLM-L6-v2')\n",
    "\n",
    "# Step 2: Compute sentence embeddings\n",
    "embeddings = model.encode(reviews)\n",
    "\n",
    "# Step 3: Cluster using KMeans\n",
    "num_clusters = 2\n",
    "kmeans = KMeans(n_clusters=num_clusters, random_state=42)\n",
    "kmeans.fit(embeddings)\n",
    "\n",
    "# Assign clusters\n",
    "cluster_labels = kmeans.labels_\n",
    "\n",
    "# Print reviews with their cluster labels\n",
    "for i, review in enumerate(reviews):\n",
    "    print(f\"Review: {review} -> Cluster: {cluster_labels[i]}\")\n",
    "\n"
   ]
  },
  {
   "cell_type": "markdown",
   "id": "220ee2d5-3b1f-4aa9-a235-8b29745655e1",
   "metadata": {},
   "source": [
    "### The results are much improved with BERT Embeddings"
   ]
  },
  {
   "cell_type": "code",
   "execution_count": 44,
   "id": "bac9e37f-c81c-4d5f-b59f-c831727a07f7",
   "metadata": {},
   "outputs": [
    {
     "data": {
      "image/png": "[encoded data removed]",
      "text/plain": [
       "<Figure size 800x600 with 1 Axes>"
      ]
     },
     "metadata": {},
     "output_type": "display_data"
    }
   ],
   "source": [
    "# Step 4: Visualize clusters\n",
    "from sklearn.manifold import TSNE\n",
    "\n",
    "tsne = TSNE(n_components=2, random_state=42, perplexity=5)\n",
    "reduced_embeddings = tsne.fit_transform(embeddings)\n",
    "\n",
    "plt.figure(figsize=(8, 6))\n",
    "colors = ['red', 'blue']\n",
    "for i in range(num_clusters):\n",
    "    points = reduced_embeddings[np.where(cluster_labels == i)]\n",
    "    plt.scatter(points[:, 0], points[:, 1], label=f\"Cluster {i}\", color=colors[i])\n",
    "\n",
    "plt.title(\"Clusters of Reviews (Sentence-BERT)\")\n",
    "plt.xlabel(\"t-SNE Dimension 1\")\n",
    "plt.ylabel(\"t-SNE Dimension 2\")\n",
    "plt.legend()\n",
    "plt.show()\n"
   ]
  },
  {
   "cell_type": "code",
   "execution_count": null,
   "id": "d9b024f9-64cb-4cf0-bb35-8367a1365b8e",
   "metadata": {},
   "outputs": [],
   "source": [
    "! pip freeze"
   ]
  },
  {
   "cell_type": "code",
   "execution_count": null,
   "id": "d0af8ef8-ec4d-49e4-af9a-f8fc0c6e2e75",
   "metadata": {},
   "outputs": [],
   "source": []
  }
 ],
 "metadata": {
  "kernelspec": {
   "display_name": "Python 3 (ipykernel)",
   "language": "python",
   "name": "python3"
  },
  "language_info": {
   "codemirror_mode": {
    "name": "ipython",
    "version": 3
   },
   "file_extension": ".py",
   "mimetype": "text/x-python",
   "name": "python",
   "nbconvert_exporter": "python",
   "pygments_lexer": "ipython3",
   "version": "3.12.4"
  }
 },
 "nbformat": 4,
 "nbformat_minor": 5
}
