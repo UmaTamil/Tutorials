{
  "nbformat": 4,
  "nbformat_minor": 0,
  "metadata": {
    "colab": {
      "provenance": []
    },
    "kernelspec": {
      "name": "python3",
      "display_name": "Python 3"
    },
    "language_info": {
      "name": "python"
    }
  },
  "cells": [
    {
      "cell_type": "code",
      "execution_count": 1,
      "metadata": {
        "colab": {
          "base_uri": "https://localhost:8080/"
        },
        "id": "tkXqXJqmdxNS",
        "outputId": "2e0d1256-5e90-4ef1-b88f-8c1fd0a8ba42"
      },
      "outputs": [
        {
          "output_type": "stream",
          "name": "stdout",
          "text": [
            "Requirement already satisfied: spacy in /usr/local/lib/python3.10/dist-packages (3.7.5)\n",
            "Requirement already satisfied: spacy-legacy<3.1.0,>=3.0.11 in /usr/local/lib/python3.10/dist-packages (from spacy) (3.0.12)\n",
            "Requirement already satisfied: spacy-loggers<2.0.0,>=1.0.0 in /usr/local/lib/python3.10/dist-packages (from spacy) (1.0.5)\n",
            "Requirement already satisfied: murmurhash<1.1.0,>=0.28.0 in /usr/local/lib/python3.10/dist-packages (from spacy) (1.0.10)\n",
            "Requirement already satisfied: cymem<2.1.0,>=2.0.2 in /usr/local/lib/python3.10/dist-packages (from spacy) (2.0.8)\n",
            "Requirement already satisfied: preshed<3.1.0,>=3.0.2 in /usr/local/lib/python3.10/dist-packages (from spacy) (3.0.9)\n",
            "Requirement already satisfied: thinc<8.3.0,>=8.2.2 in /usr/local/lib/python3.10/dist-packages (from spacy) (8.2.5)\n",
            "Requirement already satisfied: wasabi<1.2.0,>=0.9.1 in /usr/local/lib/python3.10/dist-packages (from spacy) (1.1.3)\n",
            "Requirement already satisfied: srsly<3.0.0,>=2.4.3 in /usr/local/lib/python3.10/dist-packages (from spacy) (2.4.8)\n",
            "Requirement already satisfied: catalogue<2.1.0,>=2.0.6 in /usr/local/lib/python3.10/dist-packages (from spacy) (2.0.10)\n",
            "Requirement already satisfied: weasel<0.5.0,>=0.1.0 in /usr/local/lib/python3.10/dist-packages (from spacy) (0.4.1)\n",
            "Requirement already satisfied: typer<1.0.0,>=0.3.0 in /usr/local/lib/python3.10/dist-packages (from spacy) (0.13.0)\n",
            "Requirement already satisfied: tqdm<5.0.0,>=4.38.0 in /usr/local/lib/python3.10/dist-packages (from spacy) (4.66.6)\n",
            "Requirement already satisfied: requests<3.0.0,>=2.13.0 in /usr/local/lib/python3.10/dist-packages (from spacy) (2.32.3)\n",
            "Requirement already satisfied: pydantic!=1.8,!=1.8.1,<3.0.0,>=1.7.4 in /usr/local/lib/python3.10/dist-packages (from spacy) (2.9.2)\n",
            "Requirement already satisfied: jinja2 in /usr/local/lib/python3.10/dist-packages (from spacy) (3.1.4)\n",
            "Requirement already satisfied: setuptools in /usr/local/lib/python3.10/dist-packages (from spacy) (75.1.0)\n",
            "Requirement already satisfied: packaging>=20.0 in /usr/local/lib/python3.10/dist-packages (from spacy) (24.2)\n",
            "Requirement already satisfied: langcodes<4.0.0,>=3.2.0 in /usr/local/lib/python3.10/dist-packages (from spacy) (3.4.1)\n",
            "Requirement already satisfied: numpy>=1.19.0 in /usr/local/lib/python3.10/dist-packages (from spacy) (1.26.4)\n",
            "Requirement already satisfied: language-data>=1.2 in /usr/local/lib/python3.10/dist-packages (from langcodes<4.0.0,>=3.2.0->spacy) (1.2.0)\n",
            "Requirement already satisfied: annotated-types>=0.6.0 in /usr/local/lib/python3.10/dist-packages (from pydantic!=1.8,!=1.8.1,<3.0.0,>=1.7.4->spacy) (0.7.0)\n",
            "Requirement already satisfied: pydantic-core==2.23.4 in /usr/local/lib/python3.10/dist-packages (from pydantic!=1.8,!=1.8.1,<3.0.0,>=1.7.4->spacy) (2.23.4)\n",
            "Requirement already satisfied: typing-extensions>=4.6.1 in /usr/local/lib/python3.10/dist-packages (from pydantic!=1.8,!=1.8.1,<3.0.0,>=1.7.4->spacy) (4.12.2)\n",
            "Requirement already satisfied: charset-normalizer<4,>=2 in /usr/local/lib/python3.10/dist-packages (from requests<3.0.0,>=2.13.0->spacy) (3.4.0)\n",
            "Requirement already satisfied: idna<4,>=2.5 in /usr/local/lib/python3.10/dist-packages (from requests<3.0.0,>=2.13.0->spacy) (3.10)\n",
            "Requirement already satisfied: urllib3<3,>=1.21.1 in /usr/local/lib/python3.10/dist-packages (from requests<3.0.0,>=2.13.0->spacy) (2.2.3)\n",
            "Requirement already satisfied: certifi>=2017.4.17 in /usr/local/lib/python3.10/dist-packages (from requests<3.0.0,>=2.13.0->spacy) (2024.8.30)\n",
            "Requirement already satisfied: blis<0.8.0,>=0.7.8 in /usr/local/lib/python3.10/dist-packages (from thinc<8.3.0,>=8.2.2->spacy) (0.7.11)\n",
            "Requirement already satisfied: confection<1.0.0,>=0.0.1 in /usr/local/lib/python3.10/dist-packages (from thinc<8.3.0,>=8.2.2->spacy) (0.1.5)\n",
            "Requirement already satisfied: click>=8.0.0 in /usr/local/lib/python3.10/dist-packages (from typer<1.0.0,>=0.3.0->spacy) (8.1.7)\n",
            "Requirement already satisfied: shellingham>=1.3.0 in /usr/local/lib/python3.10/dist-packages (from typer<1.0.0,>=0.3.0->spacy) (1.5.4)\n",
            "Requirement already satisfied: rich>=10.11.0 in /usr/local/lib/python3.10/dist-packages (from typer<1.0.0,>=0.3.0->spacy) (13.9.4)\n",
            "Requirement already satisfied: cloudpathlib<1.0.0,>=0.7.0 in /usr/local/lib/python3.10/dist-packages (from weasel<0.5.0,>=0.1.0->spacy) (0.20.0)\n",
            "Requirement already satisfied: smart-open<8.0.0,>=5.2.1 in /usr/local/lib/python3.10/dist-packages (from weasel<0.5.0,>=0.1.0->spacy) (7.0.5)\n",
            "Requirement already satisfied: MarkupSafe>=2.0 in /usr/local/lib/python3.10/dist-packages (from jinja2->spacy) (3.0.2)\n",
            "Requirement already satisfied: marisa-trie>=0.7.7 in /usr/local/lib/python3.10/dist-packages (from language-data>=1.2->langcodes<4.0.0,>=3.2.0->spacy) (1.2.1)\n",
            "Requirement already satisfied: markdown-it-py>=2.2.0 in /usr/local/lib/python3.10/dist-packages (from rich>=10.11.0->typer<1.0.0,>=0.3.0->spacy) (3.0.0)\n",
            "Requirement already satisfied: pygments<3.0.0,>=2.13.0 in /usr/local/lib/python3.10/dist-packages (from rich>=10.11.0->typer<1.0.0,>=0.3.0->spacy) (2.18.0)\n",
            "Requirement already satisfied: wrapt in /usr/local/lib/python3.10/dist-packages (from smart-open<8.0.0,>=5.2.1->weasel<0.5.0,>=0.1.0->spacy) (1.16.0)\n",
            "Requirement already satisfied: mdurl~=0.1 in /usr/local/lib/python3.10/dist-packages (from markdown-it-py>=2.2.0->rich>=10.11.0->typer<1.0.0,>=0.3.0->spacy) (0.1.2)\n"
          ]
        }
      ],
      "source": [
        "!pip install spacy transformers nltk"
      ]
    },
    {
      "cell_type": "markdown",
      "source": [],
      "metadata": {
        "id": "Vx1h-eHQeIxV"
      }
    },
    {
      "cell_type": "markdown",
      "source": [
        "# **Text Analysis Techniques**\n",
        "\n",
        "Text analysis involves breaking down and interpreting text using various linguistic and computational techniques. These methods span from surface-level processing to deeper understanding\n",
        "\n"
      ],
      "metadata": {
        "id": "vwp1MvYNdyPL"
      }
    },
    {
      "cell_type": "markdown",
      "source": [
        "## **Lexical Analysis**\n",
        "Lexical analysis refers to the process of breaking down the input text into smaller, meaningful units called \"tokens.\" The goal is to identify the basic elements such as words, punctuation, and numbers. This is the first step in most NLP tasks.\n",
        "\n",
        "### **Key Concepts:**\n",
        "* Tokens: Smallest meaningful units (words, punctuation, numbers).\n",
        "* Lexicon: A dictionary that maps words to their possible meanings.\n",
        "   Stemming and Lemmatization: Reducing words to their root or base forms.\n"
      ],
      "metadata": {
        "id": "L5hj6amneFlW"
      }
    },
    {
      "cell_type": "code",
      "source": [
        "import nltk\n",
        "nltk.download('punkt_tab')\n",
        "from nltk.tokenize import word_tokenize\n",
        "from nltk.stem import PorterStemmer, WordNetLemmatizer\n",
        "\n",
        "nltk.download('punkt')\n",
        "nltk.download('wordnet')\n",
        "\n",
        "text = \"The cars are driving swiftly on the roads.\"\n",
        "\n",
        "# Tokenization\n",
        "tokens = word_tokenize(text)\n",
        "print(\"Tokens:\", tokens)\n",
        "\n",
        "# Stemming\n",
        "stemmer = PorterStemmer()\n",
        "stems = [stemmer.stem(token) for token in tokens]\n",
        "print(\"Stems:\", stems)\n",
        "\n",
        "# Lemmatization\n",
        "lemmatizer = WordNetLemmatizer()\n",
        "lemmas = [lemmatizer.lemmatize(token) for token in tokens]\n",
        "print(\"Lemmas:\", lemmas)\n"
      ],
      "metadata": {
        "colab": {
          "base_uri": "https://localhost:8080/"
        },
        "id": "_HtOkil3eMyo",
        "outputId": "510d7124-7101-4b5e-f1fa-b6e57e8b7a01"
      },
      "execution_count": 4,
      "outputs": [
        {
          "output_type": "stream",
          "name": "stderr",
          "text": [
            "[nltk_data] Downloading package punkt_tab to /root/nltk_data...\n",
            "[nltk_data]   Unzipping tokenizers/punkt_tab.zip.\n",
            "[nltk_data] Downloading package punkt to /root/nltk_data...\n",
            "[nltk_data]   Package punkt is already up-to-date!\n",
            "[nltk_data] Downloading package wordnet to /root/nltk_data...\n",
            "[nltk_data]   Package wordnet is already up-to-date!\n"
          ]
        },
        {
          "output_type": "stream",
          "name": "stdout",
          "text": [
            "Tokens: ['The', 'cars', 'are', 'driving', 'swiftly', 'on', 'the', 'roads', '.']\n",
            "Stems: ['the', 'car', 'are', 'drive', 'swiftli', 'on', 'the', 'road', '.']\n",
            "Lemmas: ['The', 'car', 'are', 'driving', 'swiftly', 'on', 'the', 'road', '.']\n"
          ]
        }
      ]
    },
    {
      "cell_type": "markdown",
      "source": [
        "## **Syntactic Analysis (Parsing)**\n",
        "\n",
        "Syntactic analysis involves analyzing the sentence structure to determine the grammatical relationships between words. This is typically done using a syntax tree or dependency parse.\n",
        "\n",
        "### **Key Concepts:**\n",
        "* Grammar: Rules that define the sentence structure.\n",
        "* Parse Tree: A tree structure that shows how the sentence is constructed according to grammatical rules.\n",
        "* Dependency Parsing: Analyzing how words are related to each other syntactically.\n"
      ],
      "metadata": {
        "id": "Jt1q3tUzfc5H"
      }
    },
    {
      "cell_type": "code",
      "source": [
        "import spacy\n",
        "\n",
        "# Load a pre-trained English model\n",
        "nlp = spacy.load(\"en_core_web_sm\")\n",
        "\n",
        "# Example text\n",
        "text = \"The quick brown fox jumps over the lazy dog.\"\n",
        "\n",
        "# Process the text through the NLP pipeline\n",
        "doc = nlp(text)\n",
        "\n",
        "# Print the syntactic dependencies\n",
        "for token in doc:\n",
        "    print(f\"Word: {token.text},POS_Tag:{token.tag_},Dependency: {token.dep_}, Head: {token.head.text}\")\n"
      ],
      "metadata": {
        "colab": {
          "base_uri": "https://localhost:8080/"
        },
        "id": "Ud9dJMrLfb1u",
        "outputId": "f9c33ef5-fc8d-4591-eaf4-a57c4532e1b7"
      },
      "execution_count": 8,
      "outputs": [
        {
          "output_type": "stream",
          "name": "stdout",
          "text": [
            "Word: The,POS_Tag:DT,Dependency: det, Head: fox\n",
            "Word: quick,POS_Tag:JJ,Dependency: amod, Head: fox\n",
            "Word: brown,POS_Tag:JJ,Dependency: amod, Head: fox\n",
            "Word: fox,POS_Tag:NN,Dependency: nsubj, Head: jumps\n",
            "Word: jumps,POS_Tag:VBZ,Dependency: ROOT, Head: jumps\n",
            "Word: over,POS_Tag:IN,Dependency: prep, Head: jumps\n",
            "Word: the,POS_Tag:DT,Dependency: det, Head: dog\n",
            "Word: lazy,POS_Tag:JJ,Dependency: amod, Head: dog\n",
            "Word: dog,POS_Tag:NN,Dependency: pobj, Head: over\n",
            "Word: .,POS_Tag:.,Dependency: punct, Head: jumps\n"
          ]
        }
      ]
    },
    {
      "cell_type": "markdown",
      "source": [
        "### **Note:**\n",
        "The above output is from a dependency parsing process, where each word in the sentence is analyzed for its grammatical role and relationship to other words. This analysis includes Part-of-Speech (POS) tagging, syntactic dependency relations, and the identification of the head word for each word in the sentence.\n",
        "####**1. Word: \"The\", POS_Tag: \"DT\", Dependency: \"det\", Head: \"fox\"**\n",
        "  * Word: The word in the sentence is \"The\".\n",
        "  * POS_Tag: The Part-of-Speech tag for \"The\" is \"DT\", which stands for\n",
        "  * Determiner. A determiner typically introduces a noun phrase.\n",
        "  * Dependency: The syntactic relationship of \"The\" to the head word is\n",
        "    \"det\", which stands for determiner. \"The\" is modifying the noun \"fox\".\n",
        "  * Head: The head word of \"The\" is \"fox\", meaning that \"The\" is connected to \"fox\" in terms of grammar. \"The\" is dependent on \"fox\".\n",
        "\n",
        "####**2. Word: \"quick\", POS_Tag: \"JJ\", Dependency: \"amod\", Head: \"fox\"**\n",
        "  * Word: The word \"quick\".\n",
        "  * POS_Tag: The Part-of-Speech tag is \"JJ\", which stands for Adjective.\n",
        "  * Dependency: The syntactic relationship is \"amod\", which stands for\n",
        "    adjectival modifier. \"quick\" is describing \"fox\", providing more information about it.\n",
        "  * Head: The head word is \"fox\". So, \"quick\" is modifying the noun \"fox\".\n",
        "\n",
        "#### **3. Word: \"brown\", POS_Tag: \"JJ\", Dependency: \"amod\", Head: \"fox\"**\n",
        " * Word: The word \"brown\".\n",
        " * POS_Tag: The Part-of-Speech tag is also \"JJ\", meaning it's an Adjective.\n",
        " * Dependency: The dependency is also \"amod\", which again means it's an\n",
        "  adjectival modifier. \"brown\" is modifying \"fox\" in the same way as \"quick\".\n",
        " * Head: \"fox\" is the head word here as well.\n",
        "\n",
        "#### **4.Word: \"fox\", POS_Tag: \"NN\", Dependency: \"nsubj\", Head: \"jumps\"**\n",
        "  * Word: The word \"fox\".\n",
        "  *POS_Tag: The POS tag for \"fox\" is \"NN\", which stands for Noun, Singular.\n",
        "  *Dependency: The dependency relation is \"nsubj\", meaning it's the nominal\n",
        "  subject of the sentence. \"fox\" is the subject that is performing the action of the verb \"jumps\".\n",
        " *Head: The head word is \"jumps\", indicating that \"fox\" is the subject of the verb \"jumps\".\n",
        "\n",
        "#### **5. Word: \"jumps\", POS_Tag: \"VBZ\", Dependency: \"ROOT\", Head: \"jumps\"**\n",
        "  * Word: The word \"jumps\".\n",
        "  * POS_Tag: The POS tag is \"VBZ\", which stands for Verb, 3rd person\n",
        "    singular present.\n",
        "  * Dependency: The syntactic relationship is \"ROOT\", meaning \"jumps\" is\n",
        "    the root of the sentence, i.e., the central verb around which the entire sentence is structured.\n",
        "  * Head: The head is \"jumps\" itself because it is the root of the sentence.\n",
        "\n",
        "#### **6. Word: \"over\", POS_Tag: \"IN\", Dependency: \"prep\", Head: \"jumps\"**\n",
        "  * Word: The word \"over\".\n",
        "  * POS_Tag: The POS tag is \"IN\", which stands for Preposition.\n",
        "  * Dependency: The dependency relation is \"prep\", which stands for\n",
        "    prepositional phrase. \"over\" introduces the prepositional phrase \"over the lazy dog\" that modifies the verb \"jumps\".\n",
        "  * Head: The head is \"jumps\", because the preposition \"over\" is related\n",
        "    to the action of \"jumps\".\n",
        "\n",
        "#### **7. Word: \"the\", POS_Tag: \"DT\", Dependency: \"det\", Head: \"dog\"**\n",
        "  * Word: The word \"the\".\n",
        "  * POS_Tag: The POS tag is \"DT\", which stands for Determiner.\n",
        "  * Dependency: The syntactic relationship is \"det\", which stands for\n",
        "    determiner. \"the\" is modifying the noun \"dog\".\n",
        "  * Head: The head is \"dog\", meaning \"the\" is dependent on \"dog\".\n",
        "\n",
        "#### **8. Word: \"lazy\", POS_Tag: \"JJ\", Dependency: \"amod\", Head: \"dog\"**\n",
        "  * Word: The word \"lazy\".\n",
        "  * POS_Tag: The POS tag is \"JJ\", which stands for Adjective.\n",
        "  * Dependency: The dependency is \"amod\", which stands for adjectival\n",
        "    modifier. \"lazy\" is modifying \"dog\".\n",
        "  * Head: The head is \"dog\", meaning \"lazy\" is dependent on \"dog\".\n",
        "\n",
        "#### **9. Word: \"dog\", POS_Tag: \"NN\", Dependency: \"pobj\", Head: \"over\"**\n",
        "  * Word: The word \"dog\".\n",
        "  * POS_Tag: The POS tag is \"NN\", which stands for Noun, Singular.\n",
        "  * Dependency: The dependency is \"pobj\", which stands for prepositional\n",
        "    object. \"dog\" is the object of the preposition \"over\".\n",
        "  * Head: The head is \"over\", meaning \"dog\" is connected to the\n",
        "    preposition \"over\".\n",
        "\n",
        "#### **10. Word: \".\", POS_Tag: \".\", Dependency: \"punct\", Head: \"jumps\"**\n",
        "  * Word: The word \".\" (period).\n",
        "  * POS_Tag: The POS tag is \".\", which stands for Punctuation.\n",
        "  * Dependency: The syntactic relation is \"punct\", meaning punctuation.\n",
        "    The period marks the end of the sentence.\n",
        "  * Head: The head is \"jumps\" because the punctuation relates to the verb\n",
        "    phrase \"jumps\", and this marks the end of the sentence.\n"
      ],
      "metadata": {
        "id": "JpngqrMKkJyA"
      }
    },
    {
      "cell_type": "markdown",
      "source": [
        "## **Semantic Analysis**\n",
        "Semantic analysis involves understanding the meaning of words and sentences in context. It focuses on resolving ambiguities (e.g., \"bank\" could mean a financial institution or the side of a river). The goal is to derive the meaning or intent behind the text.\n",
        "\n",
        "### **Key Concepts:**\n",
        "* Word Sense Disambiguation (WSD): determines which sense (meaning) of a\n",
        "   word is being used in a given context. This is a crucial step in many NLP tasks, especially when a word has multiple meanings (homonyms or polysemes). There are several approaches to WSD, including supervised learning, unsupervised learning, and knowledge-based methods.\n",
        "* Named Entity Recognition (NER): Identifying entities like persons,       organizations, or locations.\n",
        "* Semantic Roles: Understanding the roles of words (e.g., who is the\n",
        "  subject, what is the action, etc.).\n",
        "\n",
        "## **Word Sense Disambiguation (WSD)**\n",
        "\n",
        "In natural language processing, word sense disambiguation (WSD) refers to the challenge of identifying the specific \"sense\" (or meaning) of a word as determined by its usage in a given context—a task that humans typically perform unconsciously. WSD is essentially a classification problem: given a word and its possible meanings (as defined by a dictionary), the goal is to classify an instance of the word in context into one or more of its sense categories. Contextual features, such as surrounding words, serve as evidence for this classification.\n",
        "\n",
        "![Vocabulary Cards_ Same Word - Different Meanings.jpg](data:image/jpeg;base64,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)\n",
        "\n",
        "In this example, we will use WordNet(knowledge-based Dictionary) from Princeton University to obtain different context sentences for a given word, along with the associated parts of speech.\n",
        "##### WordNet: WordNet® is a comprehensive lexical database for the English language. It organizes nouns, verbs, adjectives, and adverbs into groups of cognitive synonyms (synsets), each representing a unique concept."
      ],
      "metadata": {
        "id": "lSv9QKTAguci"
      }
    },
    {
      "cell_type": "code",
      "source": [
        "from nltk import wsd\n",
        "import pandas as pd\n",
        "import numpy as np\n",
        "import nltk\n",
        "from nltk.corpus import wordnet as wn\n",
        "from spacy.cli import download\n",
        "from spacy import load\n",
        "import warnings\n",
        "\n",
        "nltk.download('omw-1.4')\n",
        "nltk.download('wordnet')\n",
        "nltk.download('wordnet2022')\n",
        "nlp = load('en_core_web_sm')\n",
        "\n",
        "# ! cp -rf /usr/share/nltk_data/corpora/wordnet2022 /usr/share/nltk_data/corpora/wordnet # temp fix for lookup error.\n",
        "# [nltk_data] Downloading package omw-1.4 to /usr/share/nltk_d"
      ],
      "metadata": {
        "colab": {
          "base_uri": "https://localhost:8080/"
        },
        "id": "o3ZYFFSQvPdR",
        "outputId": "1d91a2f6-b2c0-46e5-9c76-70fefce5e629"
      },
      "execution_count": 25,
      "outputs": [
        {
          "output_type": "stream",
          "name": "stderr",
          "text": [
            "[nltk_data] Downloading package omw-1.4 to /root/nltk_data...\n",
            "[nltk_data]   Package omw-1.4 is already up-to-date!\n",
            "[nltk_data] Downloading package wordnet to /root/nltk_data...\n",
            "[nltk_data]   Package wordnet is already up-to-date!\n",
            "[nltk_data] Downloading package wordnet2022 to /root/nltk_data...\n",
            "[nltk_data]   Unzipping corpora/wordnet2022.zip.\n"
          ]
        }
      ]
    },
    {
      "cell_type": "code",
      "source": [
        "# print all the definations of bank as noun\n",
        "i =0\n",
        "for syn in wn.synsets('bank', pos=wn.NOUN):\n",
        "    print(\"defination {0} : {1}\".format(i, syn.definition()))\n",
        "    i+=1\n"
      ],
      "metadata": {
        "colab": {
          "base_uri": "https://localhost:8080/"
        },
        "id": "j2czNUN1vXYc",
        "outputId": "e66d7a82-a63d-4a95-b8d9-fb6a462ac7bd"
      },
      "execution_count": 33,
      "outputs": [
        {
          "output_type": "stream",
          "name": "stdout",
          "text": [
            "defination 0 : sloping land (especially the slope beside a body of water)\n",
            "defination 1 : a financial institution that accepts deposits and channels the money into lending activities\n",
            "defination 2 : a long ridge or pile\n",
            "defination 3 : an arrangement of similar objects in a row or in tiers\n",
            "defination 4 : a supply or stock held in reserve for future use (especially in emergencies)\n",
            "defination 5 : the funds held by a gambling house or the dealer in some gambling games\n",
            "defination 6 : a slope in the turn of a road or track; the outside is higher than the inside in order to reduce the effects of centrifugal force\n",
            "defination 7 : a container (usually with a slot in the top) for keeping money at home\n",
            "defination 8 : a building in which the business of banking transacted\n",
            "defination 9 : a flight maneuver; aircraft tips laterally about its longitudinal axis (especially in turning)\n"
          ]
        }
      ]
    },
    {
      "cell_type": "code",
      "source": [
        "# print all the definations of bank as verb\n",
        "i =0\n",
        "for syn in wn.synsets('bank', pos=wn.VERB):\n",
        "    print(\"defination {0} : {1}\".format(i, syn.definition()))\n",
        "    i+=1"
      ],
      "metadata": {
        "colab": {
          "base_uri": "https://localhost:8080/"
        },
        "id": "wtX-9CJzvnVk",
        "outputId": "17bf8905-aa4d-4291-c12c-c3381e7255df"
      },
      "execution_count": 32,
      "outputs": [
        {
          "output_type": "stream",
          "name": "stdout",
          "text": [
            "defination 0 : tip laterally\n",
            "defination 1 : enclose with a bank\n",
            "defination 2 : do business with a bank or keep an account at a bank\n",
            "defination 3 : act as the banker in a game or in gambling\n",
            "defination 4 : be in the banking business\n",
            "defination 5 : put into a bank account\n",
            "defination 6 : cover with ashes so to control the rate of burning\n",
            "defination 7 : have confidence or faith in\n"
          ]
        }
      ]
    },
    {
      "cell_type": "markdown",
      "source": [
        "### **The Lesk algorithm**\n",
        "It is a simple and widely used method for word sense disambiguation (WSD). It determines the correct sense of a word in a given context by measuring the overlap between the word's dictionary definitions (or glosses) and the context in which the word appears. The sense with the maximum overlap is selected as the correct one.\n",
        "  * Input: A target word to disambiguate and its context (e.g., a sentence or passage).\n",
        "  * Sense Definitions: Retrieve all possible senses\n",
        "    (meanings) of the target word from a lexical resource like WordNet. Each sense comes with a definition (gloss) and possibly example sentences.\n",
        "  * Context Comparison: For each sense, compute the\n",
        "    overlap between the words in:\n",
        "      * The sense's definition and examples.\n",
        "      * The surrounding words in the target word's context.\n",
        "  * Sense Selection: Choose the sense with the highest overlap as the correct meaning for the word in the given context.\n",
        "\n",
        "For example, if a word like \"bank\" appears in a sentence, the algorithm compares the definitions of bank (e.g., a financial institution vs. a riverbank) with the words surrounding bank to find the best match.\n",
        "\n",
        "#### ** Key Features:**\n",
        "  * Overlap-Based: Relies on the number of common      words (or synonyms/stems) between the gloss and context.\n",
        "  * Simple: Easy to implement but limited in handling\n",
        "    complex contexts or domain-specific senses.\n",
        "\n",
        "#### ** Limitations: **\n",
        "  * Dictionary Dependence: The quality of results\n",
        "    depends on the richness of the sense definitions.\n",
        "  * Exact Matching: Basic implementations rely on\n",
        "    exact word matching, which may miss synonyms or related words unless expanded with additional resources."
      ],
      "metadata": {
        "id": "u-Y_3W325j0F"
      }
    },
    {
      "cell_type": "code",
      "source": [
        "text1='I went to the bank to fish'\n",
        "print(text1)\n",
        "print(wsd.lesk(text1.split(), 'bank'))\n",
        "print(wsd.lesk(text1.split(), 'bank').definition())"
      ],
      "metadata": {
        "colab": {
          "base_uri": "https://localhost:8080/"
        },
        "id": "6UdMaxV1wW0F",
        "outputId": "95d0b791-7324-432a-ca86-8e592297aeae"
      },
      "execution_count": 63,
      "outputs": [
        {
          "output_type": "stream",
          "name": "stdout",
          "text": [
            "I went to the bank to fish\n",
            "Synset('bank.v.07')\n",
            "cover with ashes so to control the rate of burning\n"
          ]
        }
      ]
    },
    {
      "cell_type": "code",
      "source": [
        "text2='I went to the bank for tranactions'\n",
        "print(text2)\n",
        "print(wsd.lesk(text2.split(), 'bank'))\n",
        "print(wsd.lesk(text2.split(), 'bank').definition())"
      ],
      "metadata": {
        "colab": {
          "base_uri": "https://localhost:8080/"
        },
        "id": "V4YIHita74uK",
        "outputId": "0c698ddb-3860-466a-a8b4-3e34cd4ee3e2"
      },
      "execution_count": 64,
      "outputs": [
        {
          "output_type": "stream",
          "name": "stdout",
          "text": [
            "I went to the bank for tranactions\n",
            "Synset('savings_bank.n.02')\n",
            "a container (usually with a slot in the top) for keeping money at home\n"
          ]
        }
      ]
    },
    {
      "cell_type": "markdown",
      "source": [
        "### **NOTE**\n",
        "The output seems incorrect for the sentence \"I went to the bank to fish\". The provided sense (Synset('bank.v.07'), \"cover with ashes to control the rate of burning\") does not match the context of the sentence.\n",
        "\n"
      ],
      "metadata": {
        "id": "4Jaz9seB7kLF"
      }
    },
    {
      "cell_type": "code",
      "source": [
        "# with passing a POS\n",
        "wsd.lesk(text1.split(), 'bank', pos=wn.NOUN).definition()\n"
      ],
      "metadata": {
        "colab": {
          "base_uri": "https://localhost:8080/",
          "height": 52
        },
        "id": "nbICnjD5wgcc",
        "outputId": "63e2a732-c963-45e5-8a5e-b6ff2ed9b859"
      },
      "execution_count": 65,
      "outputs": [
        {
          "output_type": "execute_result",
          "data": {
            "text/plain": [
              "'a slope in the turn of a road or track; the outside is higher than the inside in order to reduce the effects of centrifugal force'"
            ],
            "application/vnd.google.colaboratory.intrinsic+json": {
              "type": "string"
            }
          },
          "metadata": {},
          "execution_count": 65
        }
      ]
    },
    {
      "cell_type": "code",
      "source": [
        "# with passing a POS .\n",
        "wsd.lesk(text2.split(), 'bank', pos=wn.NOUN).definition()\n"
      ],
      "metadata": {
        "colab": {
          "base_uri": "https://localhost:8080/",
          "height": 35
        },
        "id": "cu9DDE4S7sq2",
        "outputId": "a8196d3b-a13e-4478-b312-66873b2559e6"
      },
      "execution_count": 66,
      "outputs": [
        {
          "output_type": "execute_result",
          "data": {
            "text/plain": [
              "'a container (usually with a slot in the top) for keeping money at home'"
            ],
            "application/vnd.google.colaboratory.intrinsic+json": {
              "type": "string"
            }
          },
          "metadata": {},
          "execution_count": 66
        }
      ]
    },
    {
      "cell_type": "markdown",
      "source": [
        "### ** NOTE **\n",
        "Although providing POS tags does not enhance context understanding for word sense disambiguation (WSD), advanced transformer models are utilized to achieve better results."
      ],
      "metadata": {
        "id": "xva4GeYQ9d0V"
      }
    },
    {
      "cell_type": "markdown",
      "source": [
        "### **Advanced Method:**\n",
        "Transformer models like BERT, RoBERTa, and their variants have revolutionized WSD by leveraging contextual embeddings, where word meanings are derived from their surrounding words.\n",
        "### **Why Transformer Models for WSD?**\n",
        "Traditional WSD approaches relied on manually created lexical resources like WordNet or statistical co-occurrence patterns. Transformers surpass these methods because:\n",
        "\n",
        "  * Contextualized Representations: Transformers generate embeddings for words based on the specific sentence they appear in, capturing their context-dependent meaning.\n",
        "  * Pretrained Knowledge: Models like BERT are pretrained on massive corpora, enabling them to understand nuanced language patterns.\n",
        "  * Fine-tuning Capability: Transformers can be fine-tuned for specific WSD tasks using annotated datasets."
      ],
      "metadata": {
        "id": "zu-8loBg-kKg"
      }
    },
    {
      "cell_type": "code",
      "source": [
        "from transformers import BertTokenizer, BertForSequenceClassification\n",
        "import torch\n",
        "\n",
        "# Load BERT tokenizer and model\n",
        "tokenizer = BertTokenizer.from_pretrained(\"bert-base-uncased\")\n",
        "model = BertForSequenceClassification.from_pretrained(\"bert-base-uncased\", num_labels=3)  # 3 senses\n",
        "\n"
      ],
      "metadata": {
        "colab": {
          "base_uri": "https://localhost:8080/"
        },
        "id": "04MP8Qrm_gR-",
        "outputId": "2d9225d7-c820-4699-f5b4-960ad629d66e"
      },
      "execution_count": 67,
      "outputs": [
        {
          "output_type": "stream",
          "name": "stderr",
          "text": [
            "Some weights of BertForSequenceClassification were not initialized from the model checkpoint at bert-base-uncased and are newly initialized: ['classifier.bias', 'classifier.weight']\n",
            "You should probably TRAIN this model on a down-stream task to be able to use it for predictions and inference.\n"
          ]
        }
      ]
    },
    {
      "cell_type": "code",
      "source": [
        "# Encode sentence\n",
        "sentence1 = \"I went to the bank to fish.\"\n",
        "inputs = tokenizer(sentence1, return_tensors=\"pt\")\n",
        "# Mapping of sense IDs to their textual descriptions\n",
        "sense_mapping = {\n",
        "    0: \"A financial institution\",\n",
        "    1: \"The edge of a river\",\n",
        "    2: \"A slope or mound of earth\"\n",
        "}\n",
        "\n",
        "\n",
        "# Forward pass through the model\n",
        "outputs = model(**inputs)\n",
        "logits = outputs.logits\n",
        "predicted_sense = torch.argmax(logits).item()\n",
        "\n",
        "# Map the sense ID to its text\n",
        "predicted_sense_text = sense_mapping.get(predicted_sense, \"Unknown Sense\")\n",
        "print(f\"Predicted Sense: {predicted_sense_text}\")\n"
      ],
      "metadata": {
        "colab": {
          "base_uri": "https://localhost:8080/"
        },
        "id": "eOjuTLpp_vJ1",
        "outputId": "132948d4-415f-416d-ec8a-30a17e1c144b"
      },
      "execution_count": 70,
      "outputs": [
        {
          "output_type": "stream",
          "name": "stdout",
          "text": [
            "Predicted Sense: The edge of a river\n"
          ]
        }
      ]
    },
    {
      "cell_type": "code",
      "source": [
        "# Encode sentence\n",
        "sentence2 = \"I went to the bank to withdraw money.\"\n",
        "inputs2 = tokenizer(sentence2, return_tensors=\"pt\")\n",
        "# Mapping of sense IDs to their textual descriptions\n",
        "sense_mapping = {\n",
        "    0: \"A financial institution\",\n",
        "    1: \"The edge of a river\",\n",
        "    2: \"A slope or mound of earth\"\n",
        "}\n",
        "\n",
        "\n",
        "# Forward pass through the model\n",
        "outputs2 = model(**inputs2)\n",
        "logits2 = outputs2.logits\n",
        "predicted_sense2 = torch.argmax(logits2).item()\n",
        "\n",
        "# Map the sense ID to its text\n",
        "predicted_sense_text2 = sense_mapping.get(predicted_sense2, \"Unknown Sense\")\n",
        "print(f\"Predicted Sense: {predicted_sense_text2}\")\n"
      ],
      "metadata": {
        "colab": {
          "base_uri": "https://localhost:8080/"
        },
        "id": "0YB8nt_JBV8T",
        "outputId": "c32563e4-dd4a-414a-a88f-bef0a3715f42"
      },
      "execution_count": 75,
      "outputs": [
        {
          "output_type": "stream",
          "name": "stdout",
          "text": [
            "Predicted Sense: The edge of a river\n"
          ]
        }
      ]
    },
    {
      "cell_type": "markdown",
      "source": [
        "For the second sentence, the model failed to identify the correct context. Therefore, it is necessary to fine-tune the model to provide better contextual understanding."
      ],
      "metadata": {
        "id": "zY9UxOvfDau7"
      }
    },
    {
      "cell_type": "markdown",
      "source": [
        "## **Zero-Shot WSD with Pretrained Transformers**\n",
        "Instead of fine-tuning, use a model like BERT or RoBERTa to compute embeddings for:\n",
        "\n",
        "The target word in its context.\n",
        "Definitions of candidate senses.\n",
        "Compute similarity (e.g., cosine similarity) between the embeddings to select the most likely sense."
      ],
      "metadata": {
        "id": "iPl29Gb9CORt"
      }
    },
    {
      "cell_type": "code",
      "source": [
        "from transformers import pipeline\n",
        "\n",
        "# Load a zero-shot classification pipeline\n",
        "classifier = pipeline(\"zero-shot-classification\", model=\"facebook/bart-large-mnli\")\n",
        "\n"
      ],
      "metadata": {
        "id": "66F1SlRfCM9J"
      },
      "execution_count": 77,
      "outputs": []
    },
    {
      "cell_type": "code",
      "source": [
        "# Candidate senses\n",
        "candidate_senses = [\n",
        "    \"financial institution\",\n",
        "    \"edge of a river\",\n",
        "]\n",
        "\n",
        "# Sentence with target word\n",
        "sentence = \"I went to the bank to withdraw money.\"\n",
        "\n",
        "# Perform zero-shot classification\n",
        "result = classifier(sentence, candidate_senses)\n",
        "print(f\"Predicted Sense: {result['labels'][0]}\")\n"
      ],
      "metadata": {
        "colab": {
          "base_uri": "https://localhost:8080/"
        },
        "id": "xFLMMTlMCCGd",
        "outputId": "3728d421-11b7-4646-ba30-60a3646e7b7a"
      },
      "execution_count": 78,
      "outputs": [
        {
          "output_type": "stream",
          "name": "stdout",
          "text": [
            "Predicted Sense: financial institution\n"
          ]
        }
      ]
    }
  ]
}